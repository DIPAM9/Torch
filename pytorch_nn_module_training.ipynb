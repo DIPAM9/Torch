{
  "nbformat": 4,
  "nbformat_minor": 0,
  "metadata": {
    "colab": {
      "provenance": [],
      "gpuType": "T4"
    },
    "kernelspec": {
      "name": "python3",
      "display_name": "Python 3"
    },
    "language_info": {
      "name": "python"
    },
    "accelerator": "GPU"
  },
  "cells": [
    {
      "cell_type": "code",
      "execution_count": null,
      "metadata": {
        "id": "f_1xNKT2-607"
      },
      "outputs": [],
      "source": [
        "import torch.nn as nn\n",
        "import torch"
      ]
    },
    {
      "cell_type": "markdown",
      "source": [
        "## Create a Neural Network on Linear Model"
      ],
      "metadata": {
        "id": "2WK6u4yc6e-L"
      }
    },
    {
      "cell_type": "code",
      "source": [
        "class MyNeuralNetwork(nn.Module):\n",
        "\n",
        "  def __init__(self, num_params):\n",
        "    super().__init__()\n",
        "    self.linear = nn.Linear(in_features=num_params, out_features=1)\n",
        "    self.sigmoid = nn.Sigmoid()\n",
        "\n",
        "  def forward(self, parameters):\n",
        "    output = self.linear(parameters)\n",
        "    output = self.sigmoid(output)\n",
        "\n",
        "    return output"
      ],
      "metadata": {
        "id": "PsScSQwh_DeY"
      },
      "execution_count": null,
      "outputs": []
    },
    {
      "cell_type": "code",
      "source": [
        "features = torch.rand(10,5)"
      ],
      "metadata": {
        "id": "5wWUdRQT0JTP"
      },
      "execution_count": null,
      "outputs": []
    },
    {
      "cell_type": "code",
      "source": [
        "features"
      ],
      "metadata": {
        "colab": {
          "base_uri": "https://localhost:8080/"
        },
        "id": "iRH74ZQm2Fg9",
        "outputId": "e3712dfc-5a7e-43ec-d643-b3b71fc7a933"
      },
      "execution_count": null,
      "outputs": [
        {
          "output_type": "execute_result",
          "data": {
            "text/plain": [
              "tensor([[0.0547, 0.5561, 0.2038, 0.4447, 0.4757],\n",
              "        [0.7761, 0.7818, 0.0039, 0.1662, 0.6692],\n",
              "        [0.2827, 0.7715, 0.0741, 0.3624, 0.3367],\n",
              "        [0.1700, 0.6435, 0.8501, 0.0942, 0.2508],\n",
              "        [0.4136, 0.5081, 0.5481, 0.2276, 0.1118],\n",
              "        [0.3761, 0.8107, 0.6786, 0.9920, 0.2078],\n",
              "        [0.3956, 0.0136, 0.5600, 0.4706, 0.6468],\n",
              "        [0.9289, 0.3759, 0.6097, 0.5428, 0.0433],\n",
              "        [0.3738, 0.9901, 0.3244, 0.1880, 0.5371],\n",
              "        [0.7377, 0.6331, 0.7634, 0.9738, 0.5127]])"
            ]
          },
          "metadata": {},
          "execution_count": 4
        }
      ]
    },
    {
      "cell_type": "code",
      "source": [
        "features.shape"
      ],
      "metadata": {
        "colab": {
          "base_uri": "https://localhost:8080/"
        },
        "id": "bxAguAwx1Vjf",
        "outputId": "57491047-d342-4ded-8f61-9eea55a47620"
      },
      "execution_count": null,
      "outputs": [
        {
          "output_type": "execute_result",
          "data": {
            "text/plain": [
              "torch.Size([10, 5])"
            ]
          },
          "metadata": {},
          "execution_count": 5
        }
      ]
    },
    {
      "cell_type": "code",
      "source": [
        "model = MyNeuralNetwork(num_params=features.shape[1])"
      ],
      "metadata": {
        "id": "Jn_aYKE-1Xy3"
      },
      "execution_count": null,
      "outputs": []
    },
    {
      "cell_type": "code",
      "source": [
        "model(features)"
      ],
      "metadata": {
        "colab": {
          "base_uri": "https://localhost:8080/"
        },
        "id": "XWTHLZ3m1fnE",
        "outputId": "a0b227ea-db35-42f7-ef5c-98952658e8f6"
      },
      "execution_count": null,
      "outputs": [
        {
          "output_type": "execute_result",
          "data": {
            "text/plain": [
              "tensor([[0.5586],\n",
              "        [0.5343],\n",
              "        [0.5671],\n",
              "        [0.5716],\n",
              "        [0.5524],\n",
              "        [0.5406],\n",
              "        [0.4956],\n",
              "        [0.5046],\n",
              "        [0.5713],\n",
              "        [0.4973]], grad_fn=<SigmoidBackward0>)"
            ]
          },
          "metadata": {},
          "execution_count": 7
        }
      ]
    },
    {
      "cell_type": "code",
      "source": [
        "model.linear.weight"
      ],
      "metadata": {
        "colab": {
          "base_uri": "https://localhost:8080/"
        },
        "id": "2Ef0LRKM1yjo",
        "outputId": "6e5aae44-233a-4f45-b1a7-f536471100b9"
      },
      "execution_count": null,
      "outputs": [
        {
          "output_type": "execute_result",
          "data": {
            "text/plain": [
              "Parameter containing:\n",
              "tensor([[-0.2376,  0.2396, -0.0374, -0.1439, -0.1460]], requires_grad=True)"
            ]
          },
          "metadata": {},
          "execution_count": 8
        }
      ]
    },
    {
      "cell_type": "code",
      "source": [
        "model.linear.bias"
      ],
      "metadata": {
        "colab": {
          "base_uri": "https://localhost:8080/"
        },
        "id": "A_i-tUN35Zbj",
        "outputId": "caf38d5d-9b31-43e1-9540-7fa1acf62b76"
      },
      "execution_count": null,
      "outputs": [
        {
          "output_type": "execute_result",
          "data": {
            "text/plain": [
              "Parameter containing:\n",
              "tensor([0.2564], requires_grad=True)"
            ]
          },
          "metadata": {},
          "execution_count": 9
        }
      ]
    },
    {
      "cell_type": "code",
      "source": [
        "!pip install torchinfo"
      ],
      "metadata": {
        "colab": {
          "base_uri": "https://localhost:8080/"
        },
        "id": "zhEJT5XO5ZeK",
        "outputId": "99a538e0-5ab8-4a14-8fc0-b41e9916f335"
      },
      "execution_count": null,
      "outputs": [
        {
          "output_type": "stream",
          "name": "stdout",
          "text": [
            "Collecting torchinfo\n",
            "  Downloading torchinfo-1.8.0-py3-none-any.whl.metadata (21 kB)\n",
            "Downloading torchinfo-1.8.0-py3-none-any.whl (23 kB)\n",
            "Installing collected packages: torchinfo\n",
            "Successfully installed torchinfo-1.8.0\n"
          ]
        }
      ]
    },
    {
      "cell_type": "code",
      "source": [
        "from torchinfo import summary"
      ],
      "metadata": {
        "id": "-j4T6dPt6Cit"
      },
      "execution_count": null,
      "outputs": []
    },
    {
      "cell_type": "code",
      "source": [
        "summary(model=model, input_size=features.shape)"
      ],
      "metadata": {
        "colab": {
          "base_uri": "https://localhost:8080/"
        },
        "id": "qK5yQHAH6HhR",
        "outputId": "102ecbad-aa82-4f2b-9018-395a8377f4b2"
      },
      "execution_count": null,
      "outputs": [
        {
          "output_type": "execute_result",
          "data": {
            "text/plain": [
              "==========================================================================================\n",
              "Layer (type:depth-idx)                   Output Shape              Param #\n",
              "==========================================================================================\n",
              "MyNeuralNetwork                          [10, 1]                   --\n",
              "├─Linear: 1-1                            [10, 1]                   6\n",
              "├─Sigmoid: 1-2                           [10, 1]                   --\n",
              "==========================================================================================\n",
              "Total params: 6\n",
              "Trainable params: 6\n",
              "Non-trainable params: 0\n",
              "Total mult-adds (Units.MEGABYTES): 0.00\n",
              "==========================================================================================\n",
              "Input size (MB): 0.00\n",
              "Forward/backward pass size (MB): 0.00\n",
              "Params size (MB): 0.00\n",
              "Estimated Total Size (MB): 0.00\n",
              "=========================================================================================="
            ]
          },
          "metadata": {},
          "execution_count": 12
        }
      ]
    },
    {
      "cell_type": "code",
      "source": [],
      "metadata": {
        "id": "7gKirJRK6PDR"
      },
      "execution_count": null,
      "outputs": []
    }
  ]
}